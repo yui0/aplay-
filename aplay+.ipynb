{
  "nbformat": 4,
  "nbformat_minor": 0,
  "metadata": {
    "colab": {
      "name": "aplay+.ipynb",
      "provenance": [],
      "authorship_tag": "ABX9TyMRVVRI/YJmtZLg7+yue1N6",
      "include_colab_link": true
    },
    "kernelspec": {
      "name": "python3",
      "display_name": "Python 3"
    },
    "language_info": {
      "name": "python"
    }
  },
  "cells": [
    {
      "cell_type": "markdown",
      "metadata": {
        "id": "view-in-github",
        "colab_type": "text"
      },
      "source": [
        "<a href=\"https://colab.research.google.com/github/yui0/aplay-/blob/master/aplay%2B.ipynb\" target=\"_parent\"><img src=\"https://colab.research.google.com/assets/colab-badge.svg\" alt=\"Open In Colab\"/></a>"
      ]
    },
    {
      "cell_type": "code",
      "execution_count": null,
      "metadata": {
        "id": "OarKXVee_u8Z"
      },
      "outputs": [],
      "source": [
        "%%bash\n",
        "\n",
        "sudo dpkg --configure -a\n",
        "\n",
        "# Add package repository\n",
        "sudo apt-get install -y gpg-agent wget\n",
        "wget -qO - https://repositories.intel.com/graphics/intel-graphics.key | sudo apt-key add -\n",
        "sudo apt-add-repository 'deb [arch=amd64] https://repositories.intel.com/graphics/ubuntu focal main'\n",
        "\n",
        "# Install run-time packages\n",
        "sudo apt-get update\n",
        "sudo apt-get install intel-opencl-icd intel-level-zero-gpu level-zero intel-media-va-driver-non-free libmfx1\n",
        "\n",
        "# OPTIONAL: Install developer packages\n",
        "sudo apt-get install libigc-dev intel-igc-cm libigdfcl-dev libigfxcmrt-dev level-zero-dev"
      ]
    },
    {
      "cell_type": "code",
      "source": [
        "%%bash\n",
        "\n",
        "cd /tmp\n",
        "wget https://apt.repos.intel.com/intel-gpg-keys/GPG-PUB-KEY-INTEL-SW-PRODUCTS.PUB\n",
        "sudo apt-key add GPG-PUB-KEY-INTEL-SW-PRODUCTS.PUB\n",
        "rm GPG-PUB-KEY-INTEL-SW-PRODUCTS.PUB\n",
        "\n",
        "echo \"deb https://apt.repos.intel.com/oneapi all main\" | sudo tee /etc/apt/sources.list.d/oneAPI.list\n",
        "sudo apt update"
      ],
      "metadata": {
        "id": "WlxIwl4gDVNl"
      },
      "execution_count": null,
      "outputs": []
    },
    {
      "cell_type": "code",
      "source": [
        "%%bash\n",
        "sudo apt install intel-basekit\n",
        "sudo apt install intel-hpckit"
      ],
      "metadata": {
        "id": "MJgfzYMRDbLS"
      },
      "execution_count": null,
      "outputs": []
    },
    {
      "cell_type": "code",
      "source": [
        "%%bash\n",
        "source /opt/intel/oneapi/setvars.sh\n",
        "icc --version"
      ],
      "metadata": {
        "id": "n2ktRElMGaV7"
      },
      "execution_count": null,
      "outputs": []
    },
    {
      "cell_type": "code",
      "source": [
        "%%bash\n",
        "apt-get install rpm"
      ],
      "metadata": {
        "id": "hzFGwaVwG6Ev"
      },
      "execution_count": null,
      "outputs": []
    },
    {
      "cell_type": "code",
      "source": [
        "%%bash\n",
        "source /opt/intel/oneapi/setvars.sh\n",
        "cd\n",
        "rm -rf aplay*\n",
        "git clone https://github.com/yui0/aplay-.git\n",
        "pushd aplay-\n",
        "which icc\n",
        "CC=icc make\n",
        "popd\n",
        "mv aplay- aplay+-0.7\n",
        "tar cvjf aplay+-0.7.tar.bz2 aplay+-0.7\n",
        "rpmbuild -ta aplay+-0.7.tar.bz2\n",
        "mv /root/rpmbuild/SRPMS/aplay+-0.7-b1.src.rpm /content\n",
        "mv /root/rpmbuild/RPMS/x86_64/aplay+-0.7-b1.x86_64.rpm /content"
      ],
      "metadata": {
        "id": "o2yPMvAvHS-I"
      },
      "execution_count": null,
      "outputs": []
    }
  ]
}
